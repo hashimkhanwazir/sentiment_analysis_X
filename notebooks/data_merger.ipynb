{
 "cells": [
  {
   "cell_type": "code",
   "execution_count": 1,
   "metadata": {},
   "outputs": [],
   "source": [
    "import pandas as pd\n",
    "import os"
   ]
  },
  {
   "cell_type": "code",
   "execution_count": 2,
   "metadata": {},
   "outputs": [
    {
     "name": "stdout",
     "output_type": "stream",
     "text": [
      "CSV files combined and saved as 'merged_data.csv'.\n"
     ]
    }
   ],
   "source": [
    "# Directory containing your CSV files\n",
    "csv_folder = \"/Users/hashimkhan/Documents/greenbootcamps/sentiment_analysis_X/cleaned_data\"\n",
    "\n",
    "# List to hold DataFrames\n",
    "dataframes = []\n",
    "\n",
    "# Load all CSV files from the folder\n",
    "for file in os.listdir(csv_folder):\n",
    "    if file.endswith(\"CLEANED.csv\"):  # Check for CSV files\n",
    "        filepath = os.path.join(csv_folder, file)\n",
    "        df = pd.read_csv(filepath)  # Load CSV as DataFrame\n",
    "        dataframes.append(df)      # Append DataFrame to the list\n",
    "\n",
    "# Combine all DataFrames into one\n",
    "merged_df = pd.concat(dataframes, ignore_index=True)\n",
    "\n",
    "# Save the merged DataFrame to a new CSV file\n",
    "merged_df.to_csv(\"/Users/hashimkhan/Documents/greenbootcamps/sentiment_analysis_X/merged_data/merged_data.csv\", index=False)\n",
    "print(\"CSV files combined and saved as 'merged_data.csv'.\")"
   ]
  },
  {
   "cell_type": "code",
   "execution_count": 3,
   "metadata": {},
   "outputs": [
    {
     "name": "stdout",
     "output_type": "stream",
     "text": [
      "<class 'pandas.core.frame.DataFrame'>\n",
      "RangeIndex: 384 entries, 0 to 383\n",
      "Data columns (total 7 columns):\n",
      " #   Column      Non-Null Count  Dtype \n",
      "---  ------      --------------  ----- \n",
      " 0   username    384 non-null    object\n",
      " 1   location    384 non-null    object\n",
      " 2   tweet_text  384 non-null    object\n",
      " 3   created_at  384 non-null    object\n",
      " 4   retweets    384 non-null    int64 \n",
      " 5   likes       384 non-null    int64 \n",
      " 6   language    384 non-null    object\n",
      "dtypes: int64(2), object(5)\n",
      "memory usage: 21.1+ KB\n"
     ]
    }
   ],
   "source": [
    "merged_df.info()"
   ]
  },
  {
   "cell_type": "code",
   "execution_count": 4,
   "metadata": {},
   "outputs": [
    {
     "name": "stdout",
     "output_type": "stream",
     "text": [
      "╒════╤═══════════════╤══════════════════╤═════════════╕\n",
      "│    │ Column Name   │   Non-Null Count │ Data Type   │\n",
      "╞════╪═══════════════╪══════════════════╪═════════════╡\n",
      "│  0 │ username      │              384 │ object      │\n",
      "├────┼───────────────┼──────────────────┼─────────────┤\n",
      "│  1 │ location      │              384 │ object      │\n",
      "├────┼───────────────┼──────────────────┼─────────────┤\n",
      "│  2 │ tweet_text    │              384 │ object      │\n",
      "├────┼───────────────┼──────────────────┼─────────────┤\n",
      "│  3 │ created_at    │              384 │ object      │\n",
      "├────┼───────────────┼──────────────────┼─────────────┤\n",
      "│  4 │ retweets      │              384 │ int64       │\n",
      "├────┼───────────────┼──────────────────┼─────────────┤\n",
      "│  5 │ likes         │              384 │ int64       │\n",
      "├────┼───────────────┼──────────────────┼─────────────┤\n",
      "│  6 │ language      │              384 │ object      │\n",
      "╘════╧═══════════════╧══════════════════╧═════════════╛\n"
     ]
    }
   ],
   "source": [
    "### the steps for display in the presentation is here. \n",
    "justDisplay = pd.read_csv(\"/Users/hashimkhan/Documents/greenbootcamps/sentiment_analysis_X/merged_data/merged_data.csv\")\n",
    "# Create a summary of the DataFrame\n",
    "summary = {\n",
    "    \"Column Name\": justDisplay.columns,\n",
    "    \"Non-Null Count\": justDisplay.count().values,\n",
    "    \"Data Type\": justDisplay.dtypes.values,\n",
    "}\n",
    "\n",
    "# Convert to DataFrame\n",
    "summary_df = pd.DataFrame(summary)\n",
    "\n",
    "from tabulate import tabulate\n",
    "# Convert the dataframe to a pretty table\n",
    "print(tabulate(summary_df, headers='keys', tablefmt='fancy_grid')) "
   ]
  }
 ],
 "metadata": {
  "kernelspec": {
   "display_name": "sentimentAnalysis",
   "language": "python",
   "name": "python3"
  },
  "language_info": {
   "codemirror_mode": {
    "name": "ipython",
    "version": 3
   },
   "file_extension": ".py",
   "mimetype": "text/x-python",
   "name": "python",
   "nbconvert_exporter": "python",
   "pygments_lexer": "ipython3",
   "version": "3.9.6"
  }
 },
 "nbformat": 4,
 "nbformat_minor": 2
}
