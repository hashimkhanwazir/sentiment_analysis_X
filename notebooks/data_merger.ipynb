{
 "cells": [
  {
   "cell_type": "code",
   "execution_count": 1,
   "metadata": {},
   "outputs": [],
   "source": [
    "import pandas as pd\n",
    "import os"
   ]
  },
  {
   "cell_type": "code",
   "execution_count": 2,
   "metadata": {},
   "outputs": [
    {
     "name": "stdout",
     "output_type": "stream",
     "text": [
      "CSV files combined and saved as 'merged_data.csv'.\n"
     ]
    }
   ],
   "source": [
    "# Directory containing your CSV files\n",
    "csv_folder = \"/Users/hashimkhan/Documents/greenbootcamps/sentiment_analysis_X/cleaned_data\"\n",
    "\n",
    "# List to hold DataFrames\n",
    "dataframes = []\n",
    "\n",
    "# Load all CSV files from the folder\n",
    "for file in os.listdir(csv_folder):\n",
    "    if file.endswith(\"CLEANED.csv\"):  # Check for CSV files\n",
    "        filepath = os.path.join(csv_folder, file)\n",
    "        df = pd.read_csv(filepath)  # Load CSV as DataFrame\n",
    "        dataframes.append(df)      # Append DataFrame to the list\n",
    "\n",
    "# Combine all DataFrames into one\n",
    "merged_df = pd.concat(dataframes, ignore_index=True)\n",
    "\n",
    "# Save the merged DataFrame to a new CSV file\n",
    "merged_df.to_csv(\"/Users/hashimkhan/Documents/greenbootcamps/sentiment_analysis_X/merged_data/merged_data.csv\", index=False)\n",
    "print(\"CSV files combined and saved as 'merged_data.csv'.\")"
   ]
  },
  {
   "cell_type": "code",
   "execution_count": 3,
   "metadata": {},
   "outputs": [
    {
     "name": "stdout",
     "output_type": "stream",
     "text": [
      "<class 'pandas.core.frame.DataFrame'>\n",
      "RangeIndex: 384 entries, 0 to 383\n",
      "Data columns (total 7 columns):\n",
      " #   Column      Non-Null Count  Dtype \n",
      "---  ------      --------------  ----- \n",
      " 0   username    384 non-null    object\n",
      " 1   location    384 non-null    object\n",
      " 2   tweet_text  384 non-null    object\n",
      " 3   created_at  384 non-null    object\n",
      " 4   retweets    384 non-null    int64 \n",
      " 5   likes       384 non-null    int64 \n",
      " 6   language    384 non-null    object\n",
      "dtypes: int64(2), object(5)\n",
      "memory usage: 21.1+ KB\n"
     ]
    }
   ],
   "source": [
    "merged_df.info()"
   ]
  },
  {
   "cell_type": "code",
   "execution_count": 7,
   "metadata": {},
   "outputs": [
    {
     "data": {
      "text/html": [
       "<div>\n",
       "<style scoped>\n",
       "    .dataframe tbody tr th:only-of-type {\n",
       "        vertical-align: middle;\n",
       "    }\n",
       "\n",
       "    .dataframe tbody tr th {\n",
       "        vertical-align: top;\n",
       "    }\n",
       "\n",
       "    .dataframe thead th {\n",
       "        text-align: right;\n",
       "    }\n",
       "</style>\n",
       "<table border=\"1\" class=\"dataframe\">\n",
       "  <thead>\n",
       "    <tr style=\"text-align: right;\">\n",
       "      <th></th>\n",
       "      <th>username</th>\n",
       "      <th>location</th>\n",
       "      <th>tweet_text</th>\n",
       "      <th>created_at</th>\n",
       "      <th>retweets</th>\n",
       "      <th>likes</th>\n",
       "      <th>language</th>\n",
       "      <th>tweet_text_english</th>\n",
       "    </tr>\n",
       "  </thead>\n",
       "  <tbody>\n",
       "    <tr>\n",
       "      <th>0</th>\n",
       "      <td>massageportal24</td>\n",
       "      <td>Basel Schweiz</td>\n",
       "      <td>Massageportal24 Anbieter Eintrag erstellen usw</td>\n",
       "      <td>2025-01-09 18:33:23+00:00</td>\n",
       "      <td>0</td>\n",
       "      <td>0</td>\n",
       "      <td>de</td>\n",
       "      <td>&lt;pad&gt; Massageportal24 Provider Create entry et...</td>\n",
       "    </tr>\n",
       "    <tr>\n",
       "      <th>1</th>\n",
       "      <td>ChantalStadelm1</td>\n",
       "      <td>Luzern, Schweiz</td>\n",
       "      <td>Schtzt eure haltet euch konsequent von jeglich...</td>\n",
       "      <td>2025-01-09 17:49:15+00:00</td>\n",
       "      <td>0</td>\n",
       "      <td>1</td>\n",
       "      <td>de</td>\n",
       "      <td>&lt;pad&gt; Beware of all life-spans of the WHO Swis...</td>\n",
       "    </tr>\n",
       "    <tr>\n",
       "      <th>2</th>\n",
       "      <td>berlinerzeitung</td>\n",
       "      <td>Berlin, Deutschland</td>\n",
       "      <td>Adipositas tdliche Prionenkrankheiten Hitzestr...</td>\n",
       "      <td>2025-01-09 17:02:00+00:00</td>\n",
       "      <td>0</td>\n",
       "      <td>4</td>\n",
       "      <td>de</td>\n",
       "      <td>&lt;pad&gt; Obesity of prion diseases Heat stress De...</td>\n",
       "    </tr>\n",
       "    <tr>\n",
       "      <th>3</th>\n",
       "      <td>pp_gesundheit</td>\n",
       "      <td>no_location</td>\n",
       "      <td>DIOSynVax grndet neues Beratungsgremium um die...</td>\n",
       "      <td>2025-01-09 16:34:33+00:00</td>\n",
       "      <td>0</td>\n",
       "      <td>0</td>\n",
       "      <td>de</td>\n",
       "      <td>&lt;pad&gt; DIOSynVax opens new advisory body to adv...</td>\n",
       "    </tr>\n",
       "    <tr>\n",
       "      <th>4</th>\n",
       "      <td>MichaPfahl</td>\n",
       "      <td>Germany</td>\n",
       "      <td>Gesundheitsfachkrfte Tauchen Sie in die Welt d...</td>\n",
       "      <td>2025-01-09 16:31:42+00:00</td>\n",
       "      <td>0</td>\n",
       "      <td>0</td>\n",
       "      <td>de</td>\n",
       "      <td>&lt;pad&gt; Health professionals Immerse yourself in...</td>\n",
       "    </tr>\n",
       "  </tbody>\n",
       "</table>\n",
       "</div>"
      ],
      "text/plain": [
       "          username             location  \\\n",
       "0  massageportal24        Basel Schweiz   \n",
       "1  ChantalStadelm1      Luzern, Schweiz   \n",
       "2  berlinerzeitung  Berlin, Deutschland   \n",
       "3    pp_gesundheit          no_location   \n",
       "4       MichaPfahl              Germany   \n",
       "\n",
       "                                          tweet_text  \\\n",
       "0     Massageportal24 Anbieter Eintrag erstellen usw   \n",
       "1  Schtzt eure haltet euch konsequent von jeglich...   \n",
       "2  Adipositas tdliche Prionenkrankheiten Hitzestr...   \n",
       "3  DIOSynVax grndet neues Beratungsgremium um die...   \n",
       "4  Gesundheitsfachkrfte Tauchen Sie in die Welt d...   \n",
       "\n",
       "                  created_at  retweets  likes language  \\\n",
       "0  2025-01-09 18:33:23+00:00         0      0       de   \n",
       "1  2025-01-09 17:49:15+00:00         0      1       de   \n",
       "2  2025-01-09 17:02:00+00:00         0      4       de   \n",
       "3  2025-01-09 16:34:33+00:00         0      0       de   \n",
       "4  2025-01-09 16:31:42+00:00         0      0       de   \n",
       "\n",
       "                                  tweet_text_english  \n",
       "0  <pad> Massageportal24 Provider Create entry et...  \n",
       "1  <pad> Beware of all life-spans of the WHO Swis...  \n",
       "2  <pad> Obesity of prion diseases Heat stress De...  \n",
       "3  <pad> DIOSynVax opens new advisory body to adv...  \n",
       "4  <pad> Health professionals Immerse yourself in...  "
      ]
     },
     "execution_count": 7,
     "metadata": {},
     "output_type": "execute_result"
    }
   ],
   "source": [
    "temp = pd.read_csv(\"//Users/hashimkhan/Downloads/translatedFile.csv\")\n",
    "temp.head()"
   ]
  }
 ],
 "metadata": {
  "kernelspec": {
   "display_name": "sentimentAnalysis",
   "language": "python",
   "name": "python3"
  },
  "language_info": {
   "codemirror_mode": {
    "name": "ipython",
    "version": 3
   },
   "file_extension": ".py",
   "mimetype": "text/x-python",
   "name": "python",
   "nbconvert_exporter": "python",
   "pygments_lexer": "ipython3",
   "version": "3.9.6"
  }
 },
 "nbformat": 4,
 "nbformat_minor": 2
}
