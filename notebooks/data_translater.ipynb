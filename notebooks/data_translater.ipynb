{
 "cells": [
  {
   "cell_type": "markdown",
   "metadata": {},
   "source": [
    "### Import libraries and modules "
   ]
  },
  {
   "cell_type": "code",
   "execution_count": 15,
   "metadata": {},
   "outputs": [],
   "source": [
    "import pandas as pd\n"
   ]
  },
  {
   "cell_type": "markdown",
   "metadata": {},
   "source": [
    "### Load the German language tweets text"
   ]
  },
  {
   "cell_type": "code",
   "execution_count": 16,
   "metadata": {},
   "outputs": [],
   "source": [
    "\n",
    "# Load your German tweets data\n",
    "german_file = pd.read_csv(\"/Users/hashimkhan/Documents/greenbootcamps/sentiment_analysis_X/merged_data/merged_data.csv\")\n"
   ]
  },
  {
   "cell_type": "markdown",
   "metadata": {},
   "source": [
    "### Display the first few rows\n"
   ]
  },
  {
   "cell_type": "code",
   "execution_count": 17,
   "metadata": {},
   "outputs": [
    {
     "data": {
      "text/html": [
       "<div>\n",
       "<style scoped>\n",
       "    .dataframe tbody tr th:only-of-type {\n",
       "        vertical-align: middle;\n",
       "    }\n",
       "\n",
       "    .dataframe tbody tr th {\n",
       "        vertical-align: top;\n",
       "    }\n",
       "\n",
       "    .dataframe thead th {\n",
       "        text-align: right;\n",
       "    }\n",
       "</style>\n",
       "<table border=\"1\" class=\"dataframe\">\n",
       "  <thead>\n",
       "    <tr style=\"text-align: right;\">\n",
       "      <th></th>\n",
       "      <th>username</th>\n",
       "      <th>location</th>\n",
       "      <th>tweet_text</th>\n",
       "      <th>created_at</th>\n",
       "      <th>retweets</th>\n",
       "      <th>likes</th>\n",
       "      <th>language</th>\n",
       "    </tr>\n",
       "  </thead>\n",
       "  <tbody>\n",
       "    <tr>\n",
       "      <th>0</th>\n",
       "      <td>massageportal24</td>\n",
       "      <td>Basel</td>\n",
       "      <td>Massageportal24 Anbieter Eintrag erstellen usw</td>\n",
       "      <td>2025-01-09 18:33:23+00:00</td>\n",
       "      <td>0</td>\n",
       "      <td>0</td>\n",
       "      <td>de</td>\n",
       "    </tr>\n",
       "    <tr>\n",
       "      <th>1</th>\n",
       "      <td>ChantalStadelm1</td>\n",
       "      <td>Luzern</td>\n",
       "      <td>Schtzt eure haltet euch konsequent von jeglich...</td>\n",
       "      <td>2025-01-09 17:49:15+00:00</td>\n",
       "      <td>0</td>\n",
       "      <td>1</td>\n",
       "      <td>de</td>\n",
       "    </tr>\n",
       "    <tr>\n",
       "      <th>2</th>\n",
       "      <td>berlinerzeitung</td>\n",
       "      <td>Berlin, Deutschland</td>\n",
       "      <td>Adipositas tdliche Prionenkrankheiten Hitzestr...</td>\n",
       "      <td>2025-01-09 17:02:00+00:00</td>\n",
       "      <td>0</td>\n",
       "      <td>4</td>\n",
       "      <td>de</td>\n",
       "    </tr>\n",
       "    <tr>\n",
       "      <th>3</th>\n",
       "      <td>pp_gesundheit</td>\n",
       "      <td>no_location</td>\n",
       "      <td>DIOSynVax grndet neues Beratungsgremium um die...</td>\n",
       "      <td>2025-01-09 16:34:33+00:00</td>\n",
       "      <td>0</td>\n",
       "      <td>0</td>\n",
       "      <td>de</td>\n",
       "    </tr>\n",
       "    <tr>\n",
       "      <th>4</th>\n",
       "      <td>MichaPfahl</td>\n",
       "      <td>Germany</td>\n",
       "      <td>Gesundheitsfachkrfte Tauchen Sie in die Welt d...</td>\n",
       "      <td>2025-01-09 16:31:42+00:00</td>\n",
       "      <td>0</td>\n",
       "      <td>0</td>\n",
       "      <td>de</td>\n",
       "    </tr>\n",
       "  </tbody>\n",
       "</table>\n",
       "</div>"
      ],
      "text/plain": [
       "          username             location  \\\n",
       "0  massageportal24                Basel   \n",
       "1  ChantalStadelm1               Luzern   \n",
       "2  berlinerzeitung  Berlin, Deutschland   \n",
       "3    pp_gesundheit          no_location   \n",
       "4       MichaPfahl              Germany   \n",
       "\n",
       "                                          tweet_text  \\\n",
       "0     Massageportal24 Anbieter Eintrag erstellen usw   \n",
       "1  Schtzt eure haltet euch konsequent von jeglich...   \n",
       "2  Adipositas tdliche Prionenkrankheiten Hitzestr...   \n",
       "3  DIOSynVax grndet neues Beratungsgremium um die...   \n",
       "4  Gesundheitsfachkrfte Tauchen Sie in die Welt d...   \n",
       "\n",
       "                  created_at  retweets  likes language  \n",
       "0  2025-01-09 18:33:23+00:00         0      0       de  \n",
       "1  2025-01-09 17:49:15+00:00         0      1       de  \n",
       "2  2025-01-09 17:02:00+00:00         0      4       de  \n",
       "3  2025-01-09 16:34:33+00:00         0      0       de  \n",
       "4  2025-01-09 16:31:42+00:00         0      0       de  "
      ]
     },
     "execution_count": 17,
     "metadata": {},
     "output_type": "execute_result"
    }
   ],
   "source": [
    "german_file.head()"
   ]
  },
  {
   "cell_type": "code",
   "execution_count": 18,
   "metadata": {},
   "outputs": [
    {
     "name": "stdout",
     "output_type": "stream",
     "text": [
      "<class 'pandas.core.frame.DataFrame'>\n",
      "RangeIndex: 384 entries, 0 to 383\n",
      "Data columns (total 7 columns):\n",
      " #   Column      Non-Null Count  Dtype \n",
      "---  ------      --------------  ----- \n",
      " 0   username    384 non-null    object\n",
      " 1   location    384 non-null    object\n",
      " 2   tweet_text  384 non-null    object\n",
      " 3   created_at  384 non-null    object\n",
      " 4   retweets    384 non-null    int64 \n",
      " 5   likes       384 non-null    int64 \n",
      " 6   language    384 non-null    object\n",
      "dtypes: int64(2), object(5)\n",
      "memory usage: 21.1+ KB\n"
     ]
    }
   ],
   "source": [
    "german_file.info()"
   ]
  },
  {
   "cell_type": "code",
   "execution_count": 19,
   "metadata": {},
   "outputs": [
    {
     "data": {
      "text/plain": [
       "(384, 7)"
      ]
     },
     "execution_count": 19,
     "metadata": {},
     "output_type": "execute_result"
    }
   ],
   "source": [
    "german_file.shape"
   ]
  },
  {
   "cell_type": "code",
   "execution_count": 20,
   "metadata": {},
   "outputs": [
    {
     "data": {
      "text/plain": [
       "Index(['username', 'location', 'tweet_text', 'created_at', 'retweets', 'likes',\n",
       "       'language'],\n",
       "      dtype='object')"
      ]
     },
     "execution_count": 20,
     "metadata": {},
     "output_type": "execute_result"
    }
   ],
   "source": [
    "german_file.columns"
   ]
  },
  {
   "cell_type": "markdown",
   "metadata": {},
   "source": [
    "### Load the Translation Model"
   ]
  },
  {
   "cell_type": "code",
   "execution_count": 21,
   "metadata": {},
   "outputs": [],
   "source": [
    "\n",
    "from transformers import MarianMTModel, MarianTokenizer\n",
    "model_name = \"Helsinki-NLP/opus-mt-de-en\"\n",
    "tokenizer = MarianTokenizer.from_pretrained(model_name)\n",
    "model = MarianMTModel.from_pretrained(model_name)"
   ]
  },
  {
   "cell_type": "markdown",
   "metadata": {},
   "source": [
    "### Import Language Detection"
   ]
  },
  {
   "cell_type": "code",
   "execution_count": 22,
   "metadata": {},
   "outputs": [],
   "source": [
    "from langdetect import detect"
   ]
  },
  {
   "cell_type": "markdown",
   "metadata": {},
   "source": [
    "### Function for Translation from German to English"
   ]
  },
  {
   "cell_type": "code",
   "execution_count": 23,
   "metadata": {},
   "outputs": [],
   "source": [
    "\n",
    "def translate_to_english(text):\n",
    "    \"\"\"\n",
    "    Detect language and translate text to English if it's in German.\n",
    "    \"\"\"\n",
    "    try:\n",
    "        lang = detect(text)\n",
    "        if lang == \"de\":\n",
    "            # Prepare input for the model\n",
    "            inputs = tokenizer.encode(text, return_tensors=\"pt\", max_length=512, truncation=True)\n",
    "            # Generate translation\n",
    "            outputs = model.generate(inputs, max_length=512, num_beams=4, early_stopping=True)\n",
    "            # Decode and return translated text\n",
    "            translated_text = tokenizer.decode(outputs[0], skip_special_tokens=True)\n",
    "            return translated_text\n",
    "        else:\n",
    "            return text\n",
    "    except Exception as e:\n",
    "        return f\"Error: {e}\""
   ]
  },
  {
   "cell_type": "markdown",
   "metadata": {},
   "source": [
    "### Call the translate_to_english function - Give 'tweet_text' column as an Input argument"
   ]
  },
  {
   "cell_type": "code",
   "execution_count": 24,
   "metadata": {},
   "outputs": [],
   "source": [
    "\n",
    "german_file[\"tweet_text_english\"] = german_file[\"tweet_text\"].apply(translate_to_english)"
   ]
  },
  {
   "cell_type": "markdown",
   "metadata": {},
   "source": [
    "### An example of translated tweet "
   ]
  },
  {
   "cell_type": "code",
   "execution_count": 25,
   "metadata": {},
   "outputs": [
    {
     "name": "stdout",
     "output_type": "stream",
     "text": [
      "Original German Tweet:\n",
      "POV Linksautonome beschieen Polizisten am Tag der Rumung in Ltzerath mit Pyrotechnik Foto Christoph Hardt Panama Pictures\n",
      "\n",
      "Translated English Tweet:\n",
      "POV Left-wing autonomous police arrive on the day of rum in Ltzerath with pyrotechnics Photo Christoph Hardt Panama Pictures\n"
     ]
    }
   ],
   "source": [
    "row_300 = german_file.loc[301, [\"tweet_text\", \"tweet_text_english\"]]\n",
    "print(\"Original German Tweet:\")\n",
    "print(row_300[\"tweet_text\"])\n",
    "print(\"\\nTranslated English Tweet:\")\n",
    "print(row_300[\"tweet_text_english\"])"
   ]
  },
  {
   "cell_type": "markdown",
   "metadata": {},
   "source": [
    "### Save the translated file as \"translatedFile.csv\" in the /translated_data directory "
   ]
  },
  {
   "cell_type": "code",
   "execution_count": 26,
   "metadata": {},
   "outputs": [
    {
     "name": "stdout",
     "output_type": "stream",
     "text": [
      "<class 'pandas.core.frame.DataFrame'>\n",
      "RangeIndex: 384 entries, 0 to 383\n",
      "Data columns (total 8 columns):\n",
      " #   Column              Non-Null Count  Dtype \n",
      "---  ------              --------------  ----- \n",
      " 0   username            384 non-null    object\n",
      " 1   location            384 non-null    object\n",
      " 2   tweet_text          384 non-null    object\n",
      " 3   created_at          384 non-null    object\n",
      " 4   retweets            384 non-null    int64 \n",
      " 5   likes               384 non-null    int64 \n",
      " 6   language            384 non-null    object\n",
      " 7   tweet_text_english  384 non-null    object\n",
      "dtypes: int64(2), object(6)\n",
      "memory usage: 24.1+ KB\n"
     ]
    }
   ],
   "source": [
    "german_file.info()"
   ]
  },
  {
   "cell_type": "code",
   "execution_count": null,
   "metadata": {},
   "outputs": [
    {
     "data": {
      "text/plain": [
       "<bound method DataFrame.info of             username             location  \\\n",
       "0    massageportal24                Basel   \n",
       "1    ChantalStadelm1               Luzern   \n",
       "2    berlinerzeitung  Berlin, Deutschland   \n",
       "3      pp_gesundheit          no_location   \n",
       "4         MichaPfahl              Germany   \n",
       "..               ...                  ...   \n",
       "379       jannikkel6               Berlin   \n",
       "380          9Incide               Berlin   \n",
       "381       pat4reason              Hamburg   \n",
       "382          lud_nrw                  NRW   \n",
       "383    HeinzK_Berlin          no_location   \n",
       "\n",
       "                                            tweet_text  \\\n",
       "0       Massageportal24 Anbieter Eintrag erstellen usw   \n",
       "1    Schtzt eure haltet euch konsequent von jeglich...   \n",
       "2    Adipositas tdliche Prionenkrankheiten Hitzestr...   \n",
       "3    DIOSynVax grndet neues Beratungsgremium um die...   \n",
       "4    Gesundheitsfachkrfte Tauchen Sie in die Welt d...   \n",
       "..                                                 ...   \n",
       "379  bei Abrissarbeiten an in gefunden ber updayDE ...   \n",
       "380  in fhren wie im mit zerstren Gebude beschieen ...   \n",
       "381  Wenn es die von X nicht gbe wrden Menschen gla...   \n",
       "382              Die SALTED die die Welt beenden knnte   \n",
       "383  Offenbar auf in Laut Polizei ist am Donnerstag...   \n",
       "\n",
       "                    created_at  retweets  likes language  \\\n",
       "0    2025-01-09 18:33:23+00:00         0      0       de   \n",
       "1    2025-01-09 17:49:15+00:00         0      1       de   \n",
       "2    2025-01-09 17:02:00+00:00         0      4       de   \n",
       "3    2025-01-09 16:34:33+00:00         0      0       de   \n",
       "4    2025-01-09 16:31:42+00:00         0      0       de   \n",
       "..                         ...       ...    ...      ...   \n",
       "379  2025-01-08 10:17:10+00:00         0      0       de   \n",
       "380  2025-01-04 08:06:32+00:00         0      0       de   \n",
       "381  2025-01-03 15:27:42+00:00         0      0       de   \n",
       "382  2025-01-03 14:34:34+00:00         0      1       de   \n",
       "383  2025-01-03 08:55:29+00:00         0      0       de   \n",
       "\n",
       "                                    tweet_text_english  \n",
       "0            Massageportal24 Provider Create entry etc  \n",
       "1    Beware of all life-spans of the WHO Swissmedic...  \n",
       "2    Obesity of prion diseases Heat stress Deficien...  \n",
       "3    DIOSynVax opens new advisory body to advance t...  \n",
       "4    Health professionals Immerse yourself in the w...  \n",
       "..                                                 ...  \n",
       "379       sent to found on updayDE for demolition work  \n",
       "380  In both cases, as in the case of broken buildi...  \n",
       "381  If the people of X do not believe it, electric...  \n",
       "382              Die SALTED die die Welt beenden knnte  \n",
       "383  Apparently on in Loud police is on Thursday at...  \n",
       "\n",
       "[384 rows x 8 columns]>"
      ]
     },
     "execution_count": 27,
     "metadata": {},
     "output_type": "execute_result"
    }
   ],
   "source": [
    "german_file.to_csv('/Users/hashimkhan/Documents/greenbootcamps/sentiment_analysis_X/translated_data/translatedText.csv', index=False,encoding=\"utf-8\")"
   ]
  },
  {
   "cell_type": "code",
   "execution_count": 28,
   "metadata": {},
   "outputs": [],
   "source": [
    "onlyTheEnglishText = german_file[\"tweet_text_english\"]\n",
    "onlyTheEnglishText.to_csv(\"/Users/hashimkhan/Documents/greenbootcamps/sentiment_analysis_X/translated_data/onlyEnglishTweets.csv\")"
   ]
  },
  {
   "cell_type": "code",
   "execution_count": 38,
   "metadata": {},
   "outputs": [
    {
     "name": "stdout",
     "output_type": "stream",
     "text": [
      "╒═════╤════════════════════════════════════════════════════════════════════════════════════════════════════════════════════════════════════════════════════════════════════════════════════════════════════════════════════════════════════════════════════════════════════════════════════════════════════════════════╕\n",
      "│     │ tweet_text_english                                                                                                                                                                                                                                                                                             │\n",
      "╞═════╪════════════════════════════════════════════════════════════════════════════════════════════════════════════════════════════════════════════════════════════════════════════════════════════════════════════════════════════════════════════════════════════════════════════════════════════════════════════════╡\n",
      "│ 318 │ He shot fireworks in apartment police arrests Arab influencers Opera News Official                                                                                                                                                                                                                             │\n",
      "├─────┼────────────────────────────────────────────────────────────────────────────────────────────────────────────────────────────────────────────────────────────────────────────────────────────────────────────────────────────────────────────────────────────────────────────────────────────────────────────────┤\n",
      "│ 319 │ Who would have thought that And worber is discussed is joie de vivre Why Berlin Almost 40 percent of New Year's EveTter without a German passport                                                                                                                                                              │\n",
      "├─────┼────────────────────────────────────────────────────────────────────────────────────────────────────────────────────────────────────────────────────────────────────────────────────────────────────────────────────────────────────────────────────────────────────────────────────────────────────────────────┤\n",
      "│ 320 │ Storchi MOstermann WHAT speaks against 1 2 o 4 years of sale & burning v priv to ban central events offering more to put on and pull THEN Then re-evaluate u react accordingly                                                                                                                                 │\n",
      "├─────┼────────────────────────────────────────────────────────────────────────────────────────────────────────────────────────────────────────────────────────────────────────────────────────────────────────────────────────────────────────────────────────────────────────────────────────────────────────────────┤\n",
      "│ 321 │ GdPHauptstadt dpa Tagesspiegel tagesschau ZDF FunkeBerlin WORLDAMSONNTAG RTLcom sat1 berlinerzeitung SZ Because you're unfit for juice noses You're a pity that you can't ban stupidity Berlin Almost 40 percent of New Year's Eve's Day without a German passport                                             │\n",
      "├─────┼────────────────────────────────────────────────────────────────────────────────────────────────────────────────────────────────────────────────────────────────────────────────────────────────────────────────────────────────────────────────────────────────────────────────────────────────────────────────┤\n",
      "│ 322 │ faznet Maybe we should ask about the cause was previously produced and sold less fireworks or have become less responsible for fireworks shooting In Germany every problem should be handled with a ban                                                                                                        │\n",
      "├─────┼────────────────────────────────────────────────────────────────────────────────────────────────────────────────────────────────────────────────────────────────────────────────────────────────────────────────────────────────────────────────────────────────────────────────────────────────────────────────┤\n",
      "│ 323 │ Fireworks battery in apartment                                                                                                                                                                                                                                                                                 │\n",
      "├─────┼────────────────────────────────────────────────────────────────────────────────────────────────────────────────────────────────────────────────────────────────────────────────────────────────────────────────────────────────────────────────────────────────────────────────────────────────────────────────┤\n",
      "│ 324 │ 19 million people demand a ban on bulging                                                                                                                                                                                                                                                                      │\n",
      "├─────┼────────────────────────────────────────────────────────────────────────────────────────────────────────────────────────────────────────────────────────────────────────────────────────────────────────────────────────────────────────────────────────────────────────────────────────────────────────────────┤\n",
      "│ 325 │ unblogd So I'm for one in everything and with more than 15000 Since she obviously can't deal with the one Who can it obviously therefore                                                                                                                                                                       │\n",
      "├─────┼────────────────────────────────────────────────────────────────────────────────────────────────────────────────────────────────────────────────────────────────────────────────────────────────────────────────────────────────────────────────────────────────────────────────────────────────────────────────┤\n",
      "│ 326 │ GdPHauptstadt dpa Tagesspiegel tagesschau ZDF FunkeBerlin WORLDAMSONNTAG RTLcom sat1 berlinerzeitung SZ Germany can only ban because you don't get the hours under control What's that for a democracy We celebrate peacefully in the countryside And by the way 83 million have not voted for a real majority │\n",
      "├─────┼────────────────────────────────────────────────────────────────────────────────────────────────────────────────────────────────────────────────────────────────────────────────────────────────────────────────────────────────────────────────────────────────────────────────────────────────────────────────┤\n",
      "│ 327 │ BARMERAnalysis New Year's Eve is becoming increasingly rare                                                                                                                                                                                                                                                    │\n",
      "╘═════╧════════════════════════════════════════════════════════════════════════════════════════════════════════════════════════════════════════════════════════════════════════════════════════════════════════════════════════════════════════════════════════════════════════════════════════════════════════════════╛\n"
     ]
    }
   ],
   "source": [
    "english_tweets = pd.read_csv(\"/Users/hashimkhan/Documents/greenbootcamps/sentiment_analysis_X/translated_data/onlyEnglishTweets.csv\")\n",
    "from tabulate import tabulate\n",
    "# Convert the dataframe to a pretty table\n",
    "# Convert to a pretty table\n",
    "english_tweets_table = english_tweets[[\"tweet_text_english\"]]\n",
    "rows_to_display = english_tweets_table.iloc[318:328]\n",
    "print(tabulate(rows_to_display, headers='keys', tablefmt='fancy_grid'))"
   ]
  }
 ],
 "metadata": {
  "kernelspec": {
   "display_name": "sentimentAnalysis",
   "language": "python",
   "name": "python3"
  },
  "language_info": {
   "codemirror_mode": {
    "name": "ipython",
    "version": 3
   },
   "file_extension": ".py",
   "mimetype": "text/x-python",
   "name": "python",
   "nbconvert_exporter": "python",
   "pygments_lexer": "ipython3",
   "version": "3.9.6"
  }
 },
 "nbformat": 4,
 "nbformat_minor": 2
}
