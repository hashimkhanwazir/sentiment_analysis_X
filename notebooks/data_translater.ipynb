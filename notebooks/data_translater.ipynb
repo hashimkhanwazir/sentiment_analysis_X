{
 "cells": [
  {
   "cell_type": "markdown",
   "metadata": {},
   "source": [
    "### Import libraries and modules "
   ]
  },
  {
   "cell_type": "code",
   "execution_count": 1,
   "metadata": {},
   "outputs": [],
   "source": [
    "import pandas as pd\n"
   ]
  },
  {
   "cell_type": "markdown",
   "metadata": {},
   "source": [
    "### Load the German language tweets text"
   ]
  },
  {
   "cell_type": "code",
   "execution_count": 2,
   "metadata": {},
   "outputs": [],
   "source": [
    "\n",
    "# Load your German tweets data\n",
    "german_file = pd.read_csv(\"/Users/hashimkhan/Documents/greenbootcamps/sentiment_analysis_X/merged_data/merged_data.csv\")\n"
   ]
  },
  {
   "cell_type": "markdown",
   "metadata": {},
   "source": [
    "### Display the first few rows\n"
   ]
  },
  {
   "cell_type": "code",
   "execution_count": 3,
   "metadata": {},
   "outputs": [
    {
     "data": {
      "text/html": [
       "<div>\n",
       "<style scoped>\n",
       "    .dataframe tbody tr th:only-of-type {\n",
       "        vertical-align: middle;\n",
       "    }\n",
       "\n",
       "    .dataframe tbody tr th {\n",
       "        vertical-align: top;\n",
       "    }\n",
       "\n",
       "    .dataframe thead th {\n",
       "        text-align: right;\n",
       "    }\n",
       "</style>\n",
       "<table border=\"1\" class=\"dataframe\">\n",
       "  <thead>\n",
       "    <tr style=\"text-align: right;\">\n",
       "      <th></th>\n",
       "      <th>username</th>\n",
       "      <th>location</th>\n",
       "      <th>tweet_text</th>\n",
       "      <th>created_at</th>\n",
       "      <th>retweets</th>\n",
       "      <th>likes</th>\n",
       "      <th>language</th>\n",
       "    </tr>\n",
       "  </thead>\n",
       "  <tbody>\n",
       "    <tr>\n",
       "      <th>0</th>\n",
       "      <td>massageportal24</td>\n",
       "      <td>Basel Schweiz</td>\n",
       "      <td>Massageportal24 Anbieter Eintrag erstellen usw</td>\n",
       "      <td>2025-01-09 18:33:23+00:00</td>\n",
       "      <td>0</td>\n",
       "      <td>0</td>\n",
       "      <td>de</td>\n",
       "    </tr>\n",
       "    <tr>\n",
       "      <th>1</th>\n",
       "      <td>ChantalStadelm1</td>\n",
       "      <td>Luzern, Schweiz</td>\n",
       "      <td>Schtzt eure haltet euch konsequent von jeglich...</td>\n",
       "      <td>2025-01-09 17:49:15+00:00</td>\n",
       "      <td>0</td>\n",
       "      <td>1</td>\n",
       "      <td>de</td>\n",
       "    </tr>\n",
       "    <tr>\n",
       "      <th>2</th>\n",
       "      <td>berlinerzeitung</td>\n",
       "      <td>Berlin, Deutschland</td>\n",
       "      <td>Adipositas tdliche Prionenkrankheiten Hitzestr...</td>\n",
       "      <td>2025-01-09 17:02:00+00:00</td>\n",
       "      <td>0</td>\n",
       "      <td>4</td>\n",
       "      <td>de</td>\n",
       "    </tr>\n",
       "    <tr>\n",
       "      <th>3</th>\n",
       "      <td>pp_gesundheit</td>\n",
       "      <td>no_location</td>\n",
       "      <td>DIOSynVax grndet neues Beratungsgremium um die...</td>\n",
       "      <td>2025-01-09 16:34:33+00:00</td>\n",
       "      <td>0</td>\n",
       "      <td>0</td>\n",
       "      <td>de</td>\n",
       "    </tr>\n",
       "    <tr>\n",
       "      <th>4</th>\n",
       "      <td>MichaPfahl</td>\n",
       "      <td>Germany</td>\n",
       "      <td>Gesundheitsfachkrfte Tauchen Sie in die Welt d...</td>\n",
       "      <td>2025-01-09 16:31:42+00:00</td>\n",
       "      <td>0</td>\n",
       "      <td>0</td>\n",
       "      <td>de</td>\n",
       "    </tr>\n",
       "  </tbody>\n",
       "</table>\n",
       "</div>"
      ],
      "text/plain": [
       "          username             location  \\\n",
       "0  massageportal24        Basel Schweiz   \n",
       "1  ChantalStadelm1      Luzern, Schweiz   \n",
       "2  berlinerzeitung  Berlin, Deutschland   \n",
       "3    pp_gesundheit          no_location   \n",
       "4       MichaPfahl              Germany   \n",
       "\n",
       "                                          tweet_text  \\\n",
       "0     Massageportal24 Anbieter Eintrag erstellen usw   \n",
       "1  Schtzt eure haltet euch konsequent von jeglich...   \n",
       "2  Adipositas tdliche Prionenkrankheiten Hitzestr...   \n",
       "3  DIOSynVax grndet neues Beratungsgremium um die...   \n",
       "4  Gesundheitsfachkrfte Tauchen Sie in die Welt d...   \n",
       "\n",
       "                  created_at  retweets  likes language  \n",
       "0  2025-01-09 18:33:23+00:00         0      0       de  \n",
       "1  2025-01-09 17:49:15+00:00         0      1       de  \n",
       "2  2025-01-09 17:02:00+00:00         0      4       de  \n",
       "3  2025-01-09 16:34:33+00:00         0      0       de  \n",
       "4  2025-01-09 16:31:42+00:00         0      0       de  "
      ]
     },
     "execution_count": 3,
     "metadata": {},
     "output_type": "execute_result"
    }
   ],
   "source": [
    "german_file.head()"
   ]
  },
  {
   "cell_type": "markdown",
   "metadata": {},
   "source": [
    "### Load the Translation Model"
   ]
  },
  {
   "cell_type": "code",
   "execution_count": 6,
   "metadata": {},
   "outputs": [],
   "source": [
    "\n",
    "from transformers import MarianMTModel, MarianTokenizer\n",
    "model_name = \"Helsinki-NLP/opus-mt-de-en\"\n",
    "tokenizer = MarianTokenizer.from_pretrained(model_name)\n",
    "model = MarianMTModel.from_pretrained(model_name)"
   ]
  },
  {
   "cell_type": "markdown",
   "metadata": {},
   "source": [
    "### Import Language Detection"
   ]
  },
  {
   "cell_type": "code",
   "execution_count": 7,
   "metadata": {},
   "outputs": [],
   "source": [
    "from langdetect import detect"
   ]
  },
  {
   "cell_type": "markdown",
   "metadata": {},
   "source": [
    "### Function for Translation from German to English"
   ]
  },
  {
   "cell_type": "code",
   "execution_count": 8,
   "metadata": {},
   "outputs": [],
   "source": [
    "\n",
    "def translate_to_english(text):\n",
    "    \"\"\"\n",
    "    Detect language and translate text to English if it's in German.\n",
    "    \"\"\"\n",
    "    try:\n",
    "        lang = detect(text)\n",
    "        if lang == \"de\":\n",
    "            # Prepare input for the model\n",
    "            inputs = tokenizer.encode(text, return_tensors=\"pt\", max_length=512, truncation=True)\n",
    "            # Generate translation\n",
    "            outputs = model.generate(inputs, max_length=512, num_beams=4, early_stopping=True)\n",
    "            # Decode and return translated text\n",
    "            translated_text = tokenizer.decode(outputs[0], skip_special_tokens=True)\n",
    "            return translated_text\n",
    "        else:\n",
    "            return text\n",
    "    except Exception as e:\n",
    "        return f\"Error: {e}\""
   ]
  },
  {
   "cell_type": "markdown",
   "metadata": {},
   "source": [
    "### Call the translate_to_english function - Give 'tweet_text' column as an Input argument"
   ]
  },
  {
   "cell_type": "code",
   "execution_count": 9,
   "metadata": {},
   "outputs": [],
   "source": [
    "\n",
    "german_file[\"tweet_text_english\"] = german_file[\"tweet_text\"].apply(translate_to_english)"
   ]
  },
  {
   "cell_type": "markdown",
   "metadata": {},
   "source": [
    "### An example of translated tweet "
   ]
  },
  {
   "cell_type": "code",
   "execution_count": 11,
   "metadata": {},
   "outputs": [
    {
     "name": "stdout",
     "output_type": "stream",
     "text": [
      "Original German Tweet:\n",
      "Eine Petition fr ein in ganz Deutschland\n",
      "\n",
      "Translated English Tweet:\n",
      "A petition for one throughout Germany\n"
     ]
    }
   ],
   "source": [
    "row_300 = german_file.loc[300, [\"tweet_text\", \"tweet_text_english\"]]\n",
    "print(\"Original German Tweet:\")\n",
    "print(row_300[\"tweet_text\"])\n",
    "print(\"\\nTranslated English Tweet:\")\n",
    "print(row_300[\"tweet_text_english\"])"
   ]
  },
  {
   "cell_type": "markdown",
   "metadata": {},
   "source": [
    "### Save the translated file as \"translatedFile.csv\" in the /translated_data directory "
   ]
  },
  {
   "cell_type": "code",
   "execution_count": 13,
   "metadata": {},
   "outputs": [],
   "source": [
    "german_file.to_csv('/Users/hashimkhan/Documents/greenbootcamps/sentiment_analysis_X/translated_data/translatedText.csv', index=False,encoding=\"utf-8\")\n"
   ]
  }
 ],
 "metadata": {
  "kernelspec": {
   "display_name": "sentimentAnalysis",
   "language": "python",
   "name": "python3"
  },
  "language_info": {
   "codemirror_mode": {
    "name": "ipython",
    "version": 3
   },
   "file_extension": ".py",
   "mimetype": "text/x-python",
   "name": "python",
   "nbconvert_exporter": "python",
   "pygments_lexer": "ipython3",
   "version": "3.9.6"
  }
 },
 "nbformat": 4,
 "nbformat_minor": 2
}
