{
 "cells": [
  {
   "cell_type": "markdown",
   "metadata": {},
   "source": [
    "# Twitter Data Scraping with Tweepy\n",
    "\n",
    "This notebook demonstrates how to scrape recent tweets using the Tweepy API, process them, and save the results into a CSV file. The steps include:\n",
    "1. **Setup and Authentication**: Configuring Tweepy with secure API keys.\n",
    "2. **Defining a Function to Retrieve Tweets**: Using the Tweepy client to fetch tweets containing a specific hashtag.\n",
    "3. **Storing and Saving the Data**: Converting the fetched tweets into a DataFrame and saving them to a CSV file.\n",
    "\n",
    "> **Note**: API keys and tokens are handled securely using environment variables."
   ]
  },
  {
   "cell_type": "code",
   "execution_count": 1,
   "metadata": {},
   "outputs": [
    {
     "name": "stderr",
     "output_type": "stream",
     "text": [
      "/Users/hashimkhan/Documents/greenbootcamps/sentiment_analysis_X/sentimentAnalysis/lib/python3.9/site-packages/urllib3/__init__.py:35: NotOpenSSLWarning: urllib3 v2 only supports OpenSSL 1.1.1+, currently the 'ssl' module is compiled with 'LibreSSL 2.8.3'. See: https://github.com/urllib3/urllib3/issues/3020\n",
      "  warnings.warn(\n"
     ]
    }
   ],
   "source": [
    "# Import the packages and modules\n",
    "from dotenv import load_dotenv\n",
    "import pandas as pd\n",
    "import tweepy as tp\n",
    "import os "
   ]
  },
  {
   "cell_type": "code",
   "execution_count": 2,
   "metadata": {},
   "outputs": [],
   "source": [
    "\n",
    "# Load API keys from .env file\n",
    "load_dotenv()\n",
    "\n",
    "api_key = os.getenv(\"API_KEY\")\n",
    "api_secret = os.getenv(\"API_SECRET\")\n",
    "bearer_token = os.getenv(\"BEARER_TOKEN\")\n",
    "access_token = os.getenv(\"ACCESS_TOKEN\")\n",
    "access_token_secret = os.getenv(\"ACCESS_TOKEN_SECRET\")\n",
    "\n",
    "# Initialize Tweepy client\n",
    "client = tp.Client(bearer_token=bearer_token)"
   ]
  },
  {
   "cell_type": "markdown",
   "metadata": {},
   "source": [
    "### Secure Authentication\n",
    "\n",
    "API keys and tokens are loaded securely from a `.env` file. This approach ensures sensitive data is not exposed in the code.\n"
   ]
  },
  {
   "cell_type": "markdown",
   "metadata": {},
   "source": [
    "### Function to Retrieve Tweets by Hashtag\n",
    "The following function uses Tweepy to fetch recent tweets containing a specific hashtag.\n",
    "- **Query Format**: Only tweets with the given hashtag are fetched, excluding retweets.\n",
    "- **Fields Included**: Tweet text, author information, location, and public metrics like retweets and likes.\n"
   ]
  },
  {
   "cell_type": "code",
   "execution_count": null,
   "metadata": {},
   "outputs": [],
   "source": [
    "def get_tweets_by_hashtag(hashtag, max_results=60):\n",
    "    \"\"\"\n",
    "    Retrieve tweets containing a specific hashtag.\n",
    "\n",
    "    Parameters:\n",
    "    - hashtag (str): The hashtag to search for (without the # symbol).\n",
    "    - max_results (int): Maximum number of tweets to retrieve.\n",
    "\n",
    "    Returns:\n",
    "    - list: A list of dictionaries containing tweet data.\n",
    "    \"\"\"\n",
    "    tweets_data = []\n",
    "    query = f\"#{hashtag} -is:retweet\"  # Exclude retweets\n",
    "    \n",
    "    try:\n",
    "        tweets = client.search_recent_tweets(\n",
    "            query=query,\n",
    "            max_results=min(max_results, 100),\n",
    "            tweet_fields=[\"created_at\", \"text\", \"author_id\", \"lang\", \"public_metrics\"],\n",
    "            user_fields=[\"username\", \"name\", \"location\"],\n",
    "            expansions=[\"author_id\"],\n",
    "        )\n",
    "        \n",
    "        if tweets.data:\n",
    "            users = {user[\"id\"]: user for user in tweets.includes[\"users\"]}  # Map user data\n",
    "            for tweet in tweets.data:\n",
    "                user = users.get(tweet.author_id, {})\n",
    "                tweets_data.append({\n",
    "                    \"username\": user.get(\"username\"),\n",
    "                    \"name\": user.get(\"name\"),\n",
    "                    \"location\": user.get(\"location\"),\n",
    "                    \"tweet_text\": tweet.text,\n",
    "                    \"created_at\": tweet.created_at,\n",
    "                    \"retweets\": tweet.public_metrics.get(\"retweet_count\"),\n",
    "                    \"likes\": tweet.public_metrics.get(\"like_count\"),\n",
    "                    \"language\": tweet.lang,\n",
    "                })\n",
    "    except tp.TweepyException as e:\n",
    "        print(f\"Error: {e}\")\n",
    "    \n",
    "    return tweets_data"
   ]
  },
  {
   "cell_type": "markdown",
   "metadata": {},
   "source": [
    "### Usage (Call the above function according to the hashtag of your choice)"
   ]
  },
  {
   "cell_type": "code",
   "execution_count": 4,
   "metadata": {},
   "outputs": [
    {
     "name": "stdout",
     "output_type": "stream",
     "text": [
      "Error: 429 Too Many Requests\n",
      "Usage cap exceeded: Monthly product cap\n"
     ]
    }
   ],
   "source": [
    "# Example usage\n",
    "hashtag = \"The_hashtag_without_#_sign\"\n",
    "tweets = get_tweets_by_hashtag(hashtag, max_results=100)"
   ]
  },
  {
   "cell_type": "markdown",
   "metadata": {},
   "source": [
    "### Save Tweets to CSV\n",
    "\n",
    "The fetched tweet data is stored in a Pandas DataFrame and saved as a CSV file for further analysis.\n"
   ]
  },
  {
   "cell_type": "code",
   "execution_count": null,
   "metadata": {},
   "outputs": [],
   "source": [
    "# Convert the tweet data to a DataFrame\n",
    "df = pd.DataFrame(tweets)\n",
    "\n",
    "# Save the DataFrame to a CSV file\n",
    "output_file = \"file_name.csv\"\n",
    "df.to_csv(output_file, index=False, encoding=\"utf-8\")\n",
    "\n",
    "# Display a summary of the data\n",
    "print(f\"Data saved to {output_file}\")\n",
    "print(f\"Number of tweets fetched: {len(df)}\")\n",
    "print(df.head(10))"
   ]
  }
 ],
 "metadata": {
  "kernelspec": {
   "display_name": "sentimentAnalysis",
   "language": "python",
   "name": "python3"
  },
  "language_info": {
   "codemirror_mode": {
    "name": "ipython",
    "version": 3
   },
   "file_extension": ".py",
   "mimetype": "text/x-python",
   "name": "python",
   "nbconvert_exporter": "python",
   "pygments_lexer": "ipython3",
   "version": "3.9.6"
  }
 },
 "nbformat": 4,
 "nbformat_minor": 2
}
