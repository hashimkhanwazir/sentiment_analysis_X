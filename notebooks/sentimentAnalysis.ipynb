{
 "cells": [
  {
   "cell_type": "markdown",
   "metadata": {},
   "source": [
    "# VADER (Valence Aware Dictionary and sEntiment Reasoner)\n",
    "\n",
    "The **VADER (Valence Aware Dictionary and sEntiment Reasoner)** library is a popular Python tool used for sentiment analysis, especially well-suited for analyzing social media texts, product reviews, and other informal language.\n",
    "\n",
    "---\n",
    "\n",
    "## Key Features of VADER:\n",
    "\n",
    "### 1. Rule-Based Sentiment Analysis:\n",
    "- VADER uses a lexicon of words with pre-assigned sentiment intensity scores, ranging from strongly negative to strongly positive.\n",
    "- It employs heuristics (rules) to account for context, such as:\n",
    "  - **Intensity Modifiers**: Words like *\"very\"* or *\"extremely\"* increase sentiment strength.\n",
    "  - **Negations**: Words like *\"not\"* or *\"never\"* flip the sentiment.\n",
    "\n",
    "---\n",
    "\n",
    "### 2. Pre-Trained:\n",
    "- VADER comes pre-trained with a sentiment lexicon specifically designed for social media, capturing slang, emojis, and acronyms (e.g., *\"lol,\"* *\"smh\"*).\n",
    "\n",
    "---\n",
    "\n",
    "### 3. Scalable:\n",
    "- It is lightweight and does not require extensive training, making it easy to apply to datasets of various sizes.\n",
    "\n",
    "---\n",
    "\n",
    "### 4. Outputs Multiple Scores:\n",
    "For a given text, VADER outputs four scores:\n",
    "- **Positive**: The proportion of text with a positive sentiment.\n",
    "- **Neutral**: The proportion of text with a neutral sentiment.\n",
    "- **Negative**: The proportion of text with a negative sentiment.\n",
    "- **Compound**: A normalized score between **-1** and **1** representing the overall sentiment.\n"
   ]
  },
  {
   "cell_type": "code",
   "execution_count": null,
   "metadata": {},
   "outputs": [],
   "source": [
    "# import libraries \n",
    "from vaderSentiment.vaderSentiment import SentimentIntensityAnalyzer\n",
    "import pandas as pd\n"
   ]
  },
  {
   "cell_type": "code",
   "execution_count": null,
   "metadata": {},
   "outputs": [
    {
     "data": {
      "text/html": [
       "<div>\n",
       "<style scoped>\n",
       "    .dataframe tbody tr th:only-of-type {\n",
       "        vertical-align: middle;\n",
       "    }\n",
       "\n",
       "    .dataframe tbody tr th {\n",
       "        vertical-align: top;\n",
       "    }\n",
       "\n",
       "    .dataframe thead th {\n",
       "        text-align: right;\n",
       "    }\n",
       "</style>\n",
       "<table border=\"1\" class=\"dataframe\">\n",
       "  <thead>\n",
       "    <tr style=\"text-align: right;\">\n",
       "      <th></th>\n",
       "      <th>username</th>\n",
       "      <th>location</th>\n",
       "      <th>tweet_text</th>\n",
       "      <th>created_at</th>\n",
       "      <th>retweets</th>\n",
       "      <th>likes</th>\n",
       "      <th>language</th>\n",
       "      <th>tweet_text_english</th>\n",
       "    </tr>\n",
       "  </thead>\n",
       "  <tbody>\n",
       "    <tr>\n",
       "      <th>0</th>\n",
       "      <td>massageportal24</td>\n",
       "      <td>Basel</td>\n",
       "      <td>Massageportal24 Anbieter Eintrag erstellen usw</td>\n",
       "      <td>2025-01-09 18:33:23+00:00</td>\n",
       "      <td>0</td>\n",
       "      <td>0</td>\n",
       "      <td>de</td>\n",
       "      <td>Massageportal24 Provider Create entry etc</td>\n",
       "    </tr>\n",
       "    <tr>\n",
       "      <th>1</th>\n",
       "      <td>ChantalStadelm1</td>\n",
       "      <td>Luzern</td>\n",
       "      <td>Schtzt eure haltet euch konsequent von jeglich...</td>\n",
       "      <td>2025-01-09 17:49:15+00:00</td>\n",
       "      <td>0</td>\n",
       "      <td>1</td>\n",
       "      <td>de</td>\n",
       "      <td>Beware of all life-spans of the WHO Swissmedic...</td>\n",
       "    </tr>\n",
       "    <tr>\n",
       "      <th>2</th>\n",
       "      <td>berlinerzeitung</td>\n",
       "      <td>Berlin</td>\n",
       "      <td>Adipositas tdliche Prionenkrankheiten Hitzestr...</td>\n",
       "      <td>2025-01-09 17:02:00+00:00</td>\n",
       "      <td>0</td>\n",
       "      <td>4</td>\n",
       "      <td>de</td>\n",
       "      <td>Obesity of prion diseases Heat stress Deficien...</td>\n",
       "    </tr>\n",
       "    <tr>\n",
       "      <th>3</th>\n",
       "      <td>pp_gesundheit</td>\n",
       "      <td>no_location</td>\n",
       "      <td>DIOSynVax grndet neues Beratungsgremium um die...</td>\n",
       "      <td>2025-01-09 16:34:33+00:00</td>\n",
       "      <td>0</td>\n",
       "      <td>0</td>\n",
       "      <td>de</td>\n",
       "      <td>DIOSynVax opens new advisory body to advance t...</td>\n",
       "    </tr>\n",
       "    <tr>\n",
       "      <th>4</th>\n",
       "      <td>MichaPfahl</td>\n",
       "      <td>Germany</td>\n",
       "      <td>Gesundheitsfachkrfte Tauchen Sie in die Welt d...</td>\n",
       "      <td>2025-01-09 16:31:42+00:00</td>\n",
       "      <td>0</td>\n",
       "      <td>0</td>\n",
       "      <td>de</td>\n",
       "      <td>Health professionals Immerse yourself in the w...</td>\n",
       "    </tr>\n",
       "  </tbody>\n",
       "</table>\n",
       "</div>"
      ],
      "text/plain": [
       "          username     location  \\\n",
       "0  massageportal24        Basel   \n",
       "1  ChantalStadelm1       Luzern   \n",
       "2  berlinerzeitung       Berlin   \n",
       "3    pp_gesundheit  no_location   \n",
       "4       MichaPfahl      Germany   \n",
       "\n",
       "                                          tweet_text  \\\n",
       "0     Massageportal24 Anbieter Eintrag erstellen usw   \n",
       "1  Schtzt eure haltet euch konsequent von jeglich...   \n",
       "2  Adipositas tdliche Prionenkrankheiten Hitzestr...   \n",
       "3  DIOSynVax grndet neues Beratungsgremium um die...   \n",
       "4  Gesundheitsfachkrfte Tauchen Sie in die Welt d...   \n",
       "\n",
       "                  created_at  retweets  likes language  \\\n",
       "0  2025-01-09 18:33:23+00:00         0      0       de   \n",
       "1  2025-01-09 17:49:15+00:00         0      1       de   \n",
       "2  2025-01-09 17:02:00+00:00         0      4       de   \n",
       "3  2025-01-09 16:34:33+00:00         0      0       de   \n",
       "4  2025-01-09 16:31:42+00:00         0      0       de   \n",
       "\n",
       "                                  tweet_text_english  \n",
       "0          Massageportal24 Provider Create entry etc  \n",
       "1  Beware of all life-spans of the WHO Swissmedic...  \n",
       "2  Obesity of prion diseases Heat stress Deficien...  \n",
       "3  DIOSynVax opens new advisory body to advance t...  \n",
       "4  Health professionals Immerse yourself in the w...  "
      ]
     },
     "execution_count": 5,
     "metadata": {},
     "output_type": "execute_result"
    }
   ],
   "source": [
    "# Load the data, i.e., the translated csv file\n",
    "df = pd.read_csv('/Users/hashimkhan/Documents/greenbootcamps/sentiment_analysis_X/translated_data/translatedText.csv', sep=\",\")\n",
    "df.head()"
   ]
  },
  {
   "cell_type": "code",
   "execution_count": 6,
   "metadata": {},
   "outputs": [
    {
     "data": {
      "text/plain": [
       "0              Massageportal24 Provider Create entry etc\n",
       "1      Beware of all life-spans of the WHO Swissmedic...\n",
       "2      Obesity of prion diseases Heat stress Deficien...\n",
       "3      DIOSynVax opens new advisory body to advance t...\n",
       "4      Health professionals Immerse yourself in the w...\n",
       "                             ...                        \n",
       "379         sent to found on updayDE for demolition work\n",
       "380    In both cases, as in the case of broken buildi...\n",
       "381    If the people of X do not believe it, electric...\n",
       "382                Die SALTED die die Welt beenden knnte\n",
       "383    Apparently on in Loud police is on Thursday at...\n",
       "Name: tweet_text_english, Length: 384, dtype: object"
      ]
     },
     "execution_count": 6,
     "metadata": {},
     "output_type": "execute_result"
    }
   ],
   "source": [
    "df[\"tweet_text_english\"]"
   ]
  },
  {
   "cell_type": "code",
   "execution_count": 7,
   "metadata": {},
   "outputs": [],
   "source": [
    "# Initialize VADER sentiment analyzer\n",
    "analyzer = SentimentIntensityAnalyzer()"
   ]
  },
  {
   "cell_type": "code",
   "execution_count": 8,
   "metadata": {},
   "outputs": [],
   "source": [
    "# Apply sentiment analysis\n",
    "df['Sentiment'] = df['tweet_text_english'].apply(lambda x: analyzer.polarity_scores(x)['compound'])"
   ]
  },
  {
   "cell_type": "code",
   "execution_count": 9,
   "metadata": {},
   "outputs": [],
   "source": [
    "# Classify sentiment as positive, neutral, or negative\n",
    "df['Sentiment_Label'] = df['Sentiment'].apply(lambda x: 'positive' if x > 0.05 else ('negative' if x < -0.05 else 'neutral'))"
   ]
  },
  {
   "cell_type": "code",
   "execution_count": 10,
   "metadata": {},
   "outputs": [
    {
     "name": "stdout",
     "output_type": "stream",
     "text": [
      "                                    tweet_text_english Sentiment_Label\n",
      "0            Massageportal24 Provider Create entry etc        positive\n",
      "1    Beware of all life-spans of the WHO Swissmedic...        negative\n",
      "2    Obesity of prion diseases Heat stress Deficien...        negative\n",
      "3    DIOSynVax opens new advisory body to advance t...        negative\n",
      "4    Health professionals Immerse yourself in the w...        negative\n",
      "..                                                 ...             ...\n",
      "379       sent to found on updayDE for demolition work         neutral\n",
      "380  In both cases, as in the case of broken buildi...        negative\n",
      "381  If the people of X do not believe it, electric...        negative\n",
      "382              Die SALTED die die Welt beenden knnte        negative\n",
      "383  Apparently on in Loud police is on Thursday at...        negative\n",
      "\n",
      "[384 rows x 2 columns]\n"
     ]
    }
   ],
   "source": [
    "# View the results\n",
    "print(df[['tweet_text_english', 'Sentiment_Label']])"
   ]
  },
  {
   "cell_type": "markdown",
   "metadata": {},
   "source": [
    "# Tabulate Library\n",
    "\n",
    "We are using the **`tabulate`** library to display our output in a more readable and formatted way.  \n",
    "This library helps present tabular data in a visually appealing manner by formatting it as plain text, grid, or other styles.\n",
    "\n",
    "### Example Use:\n",
    "- Format data into tables.\n",
    "- Display tables with different styles, such as `plain`, `grid`, `fancy_grid`, etc.\n"
   ]
  },
  {
   "cell_type": "code",
   "execution_count": null,
   "metadata": {},
   "outputs": [
    {
     "name": "stdout",
     "output_type": "stream",
     "text": [
      "+-----+--------------------------------------------------------------------------------------------------------------------------------------------------------------------------------------------------------------------+-------+-------+-------+----------+-----------------+\n",
      "|     |                                                                                                 tweet_text_english                                                                                                 |  pos  |  neu  |  neg  | compound | Sentiment_Label |\n",
      "+-----+--------------------------------------------------------------------------------------------------------------------------------------------------------------------------------------------------------------------+-------+-------+-------+----------+-----------------+\n",
      "| 155 |                    niusde We now know that two-thirds of the Arabic or Turkish names have volunteered to the police this for our important knowledge of the through not to cover up the reality                    |  0.0  | 0.943 | 0.057 |  0.2023  |    positive     |\n",
      "| 156 |                        A better proof that the list of first names is real and that one wanted to hide it from the population that most German rioters can not have a migration background                         | 0.051 | 0.863 | 0.086 |  0.296   |    positive     |\n",
      "| 157 |                                                                          What really happened on at Port were fired Children were crying                                                                           | 0.427 | 0.573 |  0.0  | -0.7717  |    negative     |\n",
      "| 158 |                                       JochenAndru1981 An official with character and decency My Opinion PS Of course we all knew that it was not German but we are grateful                                        |  0.0  | 0.852 | 0.148 |  0.6124  |    positive     |\n",
      "| 159 |                                                                                    No one needs a New Year's Eve like the past                                                                                     | 0.173 | 0.63  | 0.197 |  0.0772  |    positive     |\n",
      "| 160 | You're looking for exciting flirts or your partner for life Then you're in the right place for hits Here you can chat with interesting people from your nhe flirting or data Sign up Schnen amp GUTEN GTGT in 2025 |  0.0  | 0.788 | 0.212 |  0.8126  |    positive     |\n",
      "+-----+--------------------------------------------------------------------------------------------------------------------------------------------------------------------------------------------------------------------+-------+-------+-------+----------+-----------------+\n"
     ]
    }
   ],
   "source": [
    "from tabulate import tabulate\n",
    "# Apply sentiment analysis and extract lexicon scores\n",
    "df['Sentiment_Scores'] = df['tweet_text_english'].apply(lambda x: analyzer.polarity_scores(x))\n",
    "\n",
    "# Expand the lexicon scores into separate columns\n",
    "df[['pos', 'neu', 'neg', 'compound']] = df['Sentiment_Scores'].apply(pd.Series)\n",
    "\n",
    "# Select rows 155 to 160\n",
    "selected_rows = df[['tweet_text_english', 'pos', 'neu', 'neg', 'compound', 'Sentiment_Label']].iloc[155:161]\n",
    "\n",
    "# Convert the dataframe to a pretty table\n",
    "print(tabulate(selected_rows, headers='keys', tablefmt='pretty'))"
   ]
  },
  {
   "cell_type": "markdown",
   "metadata": {},
   "source": [
    "# Data Visualization\n",
    "\n",
    "Here, we visualize the insights that we gathered from the data using **Matplotlib**.  \n",
    "Matplotlib is a powerful library in Python that allows us to create various types of plots and charts to better understand patterns, trends, and relationships within the dataset.\n"
   ]
  },
  {
   "cell_type": "markdown",
   "metadata": {},
   "source": [
    "## Chart Explanation\n",
    "\n",
    "The chart visually compares the **distribution of sentiment labels** in your dataset.  \n",
    "- Each bar corresponds to a specific **sentiment** (e.g., positive, neutral, negative).  \n",
    "- The height of the bar indicates how many **tweets** fall under that sentiment.  \n",
    "\n",
    "This visualization helps to easily identify which sentiment is the **most** or **least prevalent** in the dataset.\n"
   ]
  },
  {
   "cell_type": "code",
   "execution_count": 12,
   "metadata": {},
   "outputs": [
    {
     "data": {
      "image/png": "[encoded data removed]",
      "text/plain": [
       "<Figure size 800x600 with 1 Axes>"
      ]
     },
     "metadata": {},
     "output_type": "display_data"
    }
   ],
   "source": [
    "import matplotlib.pyplot as plt\n",
    "# Assuming your DataFrame is `df`\n",
    "# Group by Sentiment_Label to count tweets\n",
    "sentiment_counts = df[\"Sentiment_Label\"].value_counts()\n",
    "\n",
    "# Plot sentiment counts\n",
    "plt.figure(figsize=(8, 6))\n",
    "bars = sentiment_counts.plot(kind='bar', color=['red', 'green', 'blue'], alpha=0.7)\n",
    "\n",
    "# Add labels on top of each bar\n",
    "for bar in bars.containers:\n",
    "    for height, label in zip(bar.datavalues, bar.patches):\n",
    "        plt.text(\n",
    "            label.get_x() + label.get_width() / 2,  # X position\n",
    "            height + 0.5,                          # Y position (just above the bar)\n",
    "            str(int(height)),                      # Label text\n",
    "            ha='center',                           # Horizontal alignment\n",
    "            va='bottom',                           # Vertical alignment\n",
    "            fontsize=10                            # Font size\n",
    "        )\n",
    "\n",
    "plt.title('Distribution of Sentiment Labels')\n",
    "plt.xlabel('Sentiment')\n",
    "plt.ylabel('Number of Tweets')\n",
    "plt.xticks(rotation=0)\n",
    "plt.show()"
   ]
  },
  {
   "cell_type": "code",
   "execution_count": 13,
   "metadata": {},
   "outputs": [
    {
     "name": "stdout",
     "output_type": "stream",
     "text": [
      "<class 'pandas.core.frame.DataFrame'>\n",
      "RangeIndex: 384 entries, 0 to 383\n",
      "Data columns (total 15 columns):\n",
      " #   Column              Non-Null Count  Dtype  \n",
      "---  ------              --------------  -----  \n",
      " 0   username            384 non-null    object \n",
      " 1   location            384 non-null    object \n",
      " 2   tweet_text          384 non-null    object \n",
      " 3   created_at          384 non-null    object \n",
      " 4   retweets            384 non-null    int64  \n",
      " 5   likes               384 non-null    int64  \n",
      " 6   language            384 non-null    object \n",
      " 7   tweet_text_english  384 non-null    object \n",
      " 8   Sentiment           384 non-null    float64\n",
      " 9   Sentiment_Label     384 non-null    object \n",
      " 10  Sentiment_Scores    384 non-null    object \n",
      " 11  pos                 384 non-null    float64\n",
      " 12  neu                 384 non-null    float64\n",
      " 13  neg                 384 non-null    float64\n",
      " 14  compound            384 non-null    float64\n",
      "dtypes: float64(5), int64(2), object(8)\n",
      "memory usage: 45.1+ KB\n"
     ]
    }
   ],
   "source": [
    "df.info()\n"
   ]
  },
  {
   "cell_type": "markdown",
   "metadata": {},
   "source": [
    "# Scatter Plot Explanation\n",
    "\n",
    "This scatter plot visualizes the relationship between **compound sentiment scores** and the **number of likes** received by tweets in your dataset.\n",
    "\n",
    "- The **X-axis** represents the **compound sentiment score**, which is a measure of the overall sentiment of each tweet.  \n",
    "- The **Y-axis** represents the **number of likes**, showing how many likes each tweet has received.  \n",
    "- Each point in the scatter plot corresponds to a tweet, with its **compound sentiment score** on the X-axis and **number of likes** on the Y-axis.  \n",
    "- The points are colored **purple** and have some **transparency** (using `alpha=0.6`), making the plot visually clearer when points overlap.\n",
    "\n",
    "This chart helps you identify any correlation between the sentiment of tweets and their popularity (as measured by likes).\n"
   ]
  },
  {
   "cell_type": "code",
   "execution_count": 14,
   "metadata": {},
   "outputs": [
    {
     "data": {
      "image/png": "[encoded data removed]",
      "text/plain": [
       "<Figure size 800x600 with 1 Axes>"
      ]
     },
     "metadata": {},
     "output_type": "display_data"
    }
   ],
   "source": [
    "plt.figure(figsize=(8, 6))\n",
    "plt.scatter(df['compound'], df['likes'], alpha=0.6, c='purple')\n",
    "plt.title('Compound Sentiment Vs. Likes')\n",
    "plt.xlabel('Compound Score')\n",
    "plt.ylabel('Number of Likes')\n",
    "plt.show()\n"
   ]
  },
  {
   "cell_type": "markdown",
   "metadata": {},
   "source": [
    "### It can be observed that, negative sentiments have got more likes."
   ]
  },
  {
   "cell_type": "code",
   "execution_count": null,
   "metadata": {},
   "outputs": [
    {
     "data": {
      "image/png": "[encoded data removed]",
      "text/plain": [
       "<Figure size 1200x800 with 1 Axes>"
      ]
     },
     "metadata": {},
     "output_type": "display_data"
    }
   ],
   "source": [
    "\n",
    "# Example DataFrame structure (replace with your actual DataFrame)\n",
    "# df should have columns: 'Region', 'Sentiment_Label'\n",
    "# Example data preparation (for illustration purposes)\n",
    "# df = pd.DataFrame({'Region': [...], 'Sentiment_Label': [...]})\n",
    "\n",
    "# Group by Region and Sentiment_Label\n",
    "sentiment_counts = (\n",
    "    df.groupby(['location', 'Sentiment_Label'])\n",
    "    .size()\n",
    "    .unstack(fill_value=0)\n",
    ")\n",
    "\n",
    "# Calculate the top 10 regions with the highest total tweets\n",
    "top_10_regions = sentiment_counts.sum(axis=1).nlargest(6).index\n",
    "sentiment_by_top_regions = sentiment_counts.loc[top_10_regions]\n",
    "\n",
    "# Define color mapping for sentiment\n",
    "color_mapping = {'positive': 'green', 'neutral': 'blue', 'negative': 'red'}\n",
    "\n",
    "# Plot the data\n",
    "ax = sentiment_by_top_regions.plot(\n",
    "    kind='bar',\n",
    "    stacked=True,\n",
    "    figsize=(12, 8),\n",
    "    color=[color_mapping[label] for label in sentiment_by_top_regions.columns]\n",
    ")\n",
    "\n",
    "# Chart title and labels\n",
    "plt.title('Sentiment Distribution for Top 6 Locations')\n",
    "plt.xlabel('Location')\n",
    "plt.ylabel('Number of Tweets')\n",
    "plt.legend(title='Sentiment', bbox_to_anchor=(1.05, 1), loc='upper left')\n",
    "plt.xticks(rotation=45, ha='right')  # Rotate labels for better readability\n",
    "\n",
    "# Annotate the bars with counts\n",
    "for container in ax.containers:\n",
    "    for bar in container:\n",
    "        height = bar.get_height()\n",
    "        if height > 0:  # Annotate only non-zero bars\n",
    "            x = bar.get_x() + bar.get_width() / 2\n",
    "            y = bar.get_y() + height / 2\n",
    "            ax.text(x, y, int(height), ha='center', va='center', fontsize=10, color='white')\n",
    "\n",
    "plt.tight_layout()\n",
    "plt.show()\n",
    "\n",
    "\n"
   ]
  },
  {
   "cell_type": "markdown",
   "metadata": {},
   "source": [
    "# Displaying Top Positive Sentiment Tweets\n",
    "\n",
    "This code extracts the **top 2 tweets** with the highest **compound sentiment scores** from the dataset.  \n",
    "- It **sorts the tweets** by the **compound sentiment score** in descending order, keeping only the top 2 tweets.  \n",
    "- The **text of each tweet** is then wrapped for better readability (using `wrap_text`).  \n",
    "- The code then displays the **tweet text** (in English) along with its corresponding **compound sentiment score** in a well-formatted table, using the **tabulate** library.\n"
   ]
  },
  {
   "cell_type": "code",
   "execution_count": null,
   "metadata": {},
   "outputs": [
    {
     "name": "stdout",
     "output_type": "stream",
     "text": [
      "╒═════╤════════════════════════════════════════════════════╤════════════╕\n",
      "│     │ tweet_text_english                                 │   compound │\n",
      "╞═════╪════════════════════════════════════════════════════╪════════════╡\n",
      "│  61 │ Discover the amazing secret against varicose veins │     0.9274 │\n",
      "│     │ Our innovative means surprise with effective help  │            │\n",
      "│     │ Try now                                            │            │\n",
      "├─────┼────────────────────────────────────────────────────┼────────────┤\n",
      "│ 235 │ BettinaJarasch Those who want to celebrate safely  │     0.9186 │\n",
      "│     │ in the future and want to start the new year in a  │            │\n",
      "│     │ healthy way Should choose from safety grounds Not  │            │\n",
      "│     │ those are the problem which is the problem every   │            │\n",
      "│     │ healthy person with a healthy mind needs to        │            │\n",
      "│     │ recognize the AfD is                               │            │\n",
      "╘═════╧════════════════════════════════════════════════════╧════════════╛\n"
     ]
    }
   ],
   "source": [
    "import textwrap\n",
    "from tabulate import tabulate\n",
    "\n",
    "# Define a function to wrap text\n",
    "def wrap_text(text, width=50):\n",
    "    return \"\\n\".join(textwrap.wrap(text, width))\n",
    "\n",
    "# Sort the DataFrame by the compound score in descending order\n",
    "top_positive_tweets = df.sort_values(by='compound', ascending=False).head(2)\n",
    "\n",
    "# Wrap the tweet text\n",
    "top_positive_tweets['tweet_text_english'] = top_positive_tweets['tweet_text_english'].apply(wrap_text)\n",
    "\n",
    "# Select relevant columns to display\n",
    "top_positive_tweets_display = top_positive_tweets[['tweet_text_english', 'compound']]\n",
    "\n",
    "# Print the top 5 most positive tweets with wrapped text\n",
    "print(tabulate(top_positive_tweets_display, headers='keys', tablefmt='fancy_grid'))"
   ]
  },
  {
   "cell_type": "markdown",
   "metadata": {},
   "source": [
    "# Displaying Top Negative Sentiment Tweets\n",
    "\n",
    "This code extracts the **top 2 tweets** with the lowest **compound sentiment scores** (most negative sentiment) from the dataset.  \n",
    "- It **sorts the tweets** by the **compound sentiment score** in ascending order, keeping only the top 2 negative tweets.  \n",
    "- The **text of each tweet** is then wrapped for better readability (using `wrap_text`).  \n",
    "- The code then displays the **tweet text** (in English) along with its corresponding **compound sentiment score** in a well-formatted table, using the **tabulate** library."
   ]
  },
  {
   "cell_type": "code",
   "execution_count": 17,
   "metadata": {},
   "outputs": [
    {
     "name": "stdout",
     "output_type": "stream",
     "text": [
      "╒═════╤════════════════════════════════════════════════════╤════════════╕\n",
      "│     │ tweet_text_english                                 │   compound │\n",
      "╞═════╪════════════════════════════════════════════════════╪════════════╡\n",
      "│ 317 │ MOstermann It's not a solution but we can't help   │    -0.9698 │\n",
      "│     │ but protect the police for now The problem as such │            │\n",
      "│     │ is a multi-ethnic conflict that can lead to war    │            │\n",
      "│     │ That's why it's important to have a practical      │            │\n",
      "│     │ government that recognizes and eliminates the      │            │\n",
      "│     │ danger.                                            │            │\n",
      "├─────┼────────────────────────────────────────────────────┼────────────┤\n",
      "│ 283 │ Environmental aid First of all, we start with a    │    -0.9186 │\n",
      "│     │ DUH ban or worry that there are people in the DUH  │            │\n",
      "│     │ who can think up to wallpaper There is also a ban  │            │\n",
      "│     │ on weapons, however, there are undisputed pistols  │            │\n",
      "│     │ etc in D brigens D also has limits                 │            │\n",
      "╘═════╧════════════════════════════════════════════════════╧════════════╛\n"
     ]
    }
   ],
   "source": [
    "import textwrap\n",
    "from tabulate import tabulate\n",
    "\n",
    "# Define a function to wrap text\n",
    "def wrap_text(text, width=50):\n",
    "    return \"\\n\".join(textwrap.wrap(text, width))\n",
    "\n",
    "# Sort the DataFrame by the compound score in ascending order for negative tweets\n",
    "top_negative_tweets = df.sort_values(by='compound', ascending=True).head(2)\n",
    "\n",
    "# Wrap the tweet text\n",
    "top_negative_tweets['tweet_text_english'] = top_negative_tweets['tweet_text_english'].apply(wrap_text)\n",
    "\n",
    "# Select relevant columns to display\n",
    "top_negative_tweets_display = top_negative_tweets[['tweet_text_english', 'compound']]\n",
    "\n",
    "# Print the top 2 most negative tweets with wrapped text\n",
    "print(tabulate(top_negative_tweets_display, headers='keys', tablefmt='fancy_grid'))\n"
   ]
  },
  {
   "cell_type": "markdown",
   "metadata": {},
   "source": [
    "# Displaying Top Most Liked and Retweeted Posts\n",
    "\n",
    "This code extracts the **top 2 posts** with the highest number of **likes** and **retweets** from the dataset.  \n",
    "- It **sorts the tweets** by both **likes** and **retweets** in descending order, keeping the top 2 posts.  \n",
    "- The **text of each tweet** is wrapped for better readability (using `wrap_text`).  \n",
    "- The code then displays the **tweet text** (in English) along with its corresponding **number of likes** and **number of retweets** in a well-formatted table, using the **tabulate** library."
   ]
  },
  {
   "cell_type": "code",
   "execution_count": 18,
   "metadata": {},
   "outputs": [
    {
     "name": "stdout",
     "output_type": "stream",
     "text": [
      "╒═════╤════════════════════════════════════════════════════╤═════════╤════════════╕\n",
      "│     │ tweet_text_english                                 │   likes │   compound │\n",
      "╞═════╪════════════════════════════════════════════════════╪═════════╪════════════╡\n",
      "│ 115 │ Attalah Younes 24 fired a rocket that flew through │     215 │    -0.5574 │\n",
      "│     │ a window into a nursery and exploded Now he landed │         │            │\n",
      "│     │ in the cell for the time being                     │         │            │\n",
      "╘═════╧════════════════════════════════════════════════════╧═════════╧════════════╛\n"
     ]
    }
   ],
   "source": [
    "import textwrap\n",
    "from tabulate import tabulate\n",
    "\n",
    "# Define a function to wrap text\n",
    "def wrap_text(text, width=50):\n",
    "    return \"\\n\".join(textwrap.wrap(text, width))\n",
    "\n",
    "# Sort the DataFrame by the 'likes' column in descending order\n",
    "most_liked_tweet = df.sort_values(by='likes', ascending=False).head(1)\n",
    "\n",
    "# Wrap the tweet text\n",
    "most_liked_tweet['tweet_text_english'] = most_liked_tweet['tweet_text_english'].apply(wrap_text)\n",
    "\n",
    "# Select relevant columns to display\n",
    "most_liked_tweet_display = most_liked_tweet[['tweet_text_english', 'likes', 'compound']]\n",
    "\n",
    "# Print the most liked tweet with wrapped text\n",
    "print(tabulate(most_liked_tweet_display, headers='keys', tablefmt='fancy_grid'))\n"
   ]
  },
  {
   "cell_type": "code",
   "execution_count": 19,
   "metadata": {},
   "outputs": [
    {
     "name": "stdout",
     "output_type": "stream",
     "text": [
      "╒═════╤════════════════════════════════════════════════════╤════════════╤════════════╕\n",
      "│     │ tweet_text_english                                 │   retweets │   compound │\n",
      "╞═════╪════════════════════════════════════════════════════╪════════════╪════════════╡\n",
      "│ 115 │ Attalah Younes 24 fired a rocket that flew through │         30 │    -0.5574 │\n",
      "│     │ a window into a nursery and exploded Now he landed │            │            │\n",
      "│     │ in the cell for the time being                     │            │            │\n",
      "╘═════╧════════════════════════════════════════════════════╧════════════╧════════════╛\n"
     ]
    }
   ],
   "source": [
    "import textwrap\n",
    "from tabulate import tabulate\n",
    "\n",
    "# Define a function to wrap text\n",
    "def wrap_text(text, width=50):\n",
    "    return \"\\n\".join(textwrap.wrap(text, width))\n",
    "\n",
    "# Sort the DataFrame by the 'retweets' column in descending order\n",
    "most_retweeted_tweet = df.sort_values(by='retweets', ascending=False).head(1)\n",
    "\n",
    "# Wrap the tweet text\n",
    "most_retweeted_tweet['tweet_text_english'] = most_retweeted_tweet['tweet_text_english'].apply(wrap_text)\n",
    "\n",
    "# Select relevant columns to display\n",
    "most_retweeted_tweet_display = most_retweeted_tweet[['tweet_text_english', 'retweets', 'compound']]\n",
    "\n",
    "# Print the most retweeted tweet with wrapped text\n",
    "print(tabulate(most_retweeted_tweet_display, headers='keys', tablefmt='fancy_grid'))\n"
   ]
  },
  {
   "cell_type": "code",
   "execution_count": 24,
   "metadata": {},
   "outputs": [
    {
     "name": "stdout",
     "output_type": "stream",
     "text": [
      "╒═════╤════════════════════════════════════════════════════╤═════════╤════════════╤════════════╕\n",
      "│     │ tweet_text_english                                 │   likes │   compound │   retweets │\n",
      "╞═════╪════════════════════════════════════════════════════╪═════════╪════════════╪════════════╡\n",
      "│ 115 │ Attalah Younes 24 fired a rocket that flew through │     215 │    -0.5574 │         30 │\n",
      "│     │ a window into a nursery and exploded Now he landed │         │            │            │\n",
      "│     │ in the cell for the time being                     │         │            │            │\n",
      "╘═════╧════════════════════════════════════════════════════╧═════════╧════════════╧════════════╛\n"
     ]
    }
   ],
   "source": [
    "import textwrap\n",
    "from tabulate import tabulate\n",
    "\n",
    "# Define a function to wrap text\n",
    "def wrap_text(text, width=50):\n",
    "    return \"\\n\".join(textwrap.wrap(text, width))\n",
    "\n",
    "# Sort the DataFrame by 'likes' to get the most liked tweet\n",
    "most_liked_tweet = df.sort_values(by='likes', ascending=False).head(1)\n",
    "\n",
    "# Sort the DataFrame by 'retweets' to get the most retweeted tweet\n",
    "most_retweeted_tweet = df.sort_values(by='retweets', ascending=False).head(1)\n",
    "\n",
    "# Wrap the tweet text for both most liked and most retweeted tweets\n",
    "most_liked_tweet['tweet_text_english'] = most_liked_tweet['tweet_text_english'].apply(wrap_text)\n",
    "most_retweeted_tweet['tweet_text_english'] = most_retweeted_tweet['tweet_text_english'].apply(wrap_text)\n",
    "\n",
    "# Add the 'retweets' column to the most liked tweet for display\n",
    "most_liked_tweet['retweets'] = most_retweeted_tweet['retweets'].iloc[0]\n",
    "\n",
    "# Select relevant columns to display\n",
    "most_liked_tweet_display = most_liked_tweet[['tweet_text_english', 'likes', 'compound', 'retweets']]\n",
    "\n",
    "# Print the most liked tweet with wrapped text and retweet count\n",
    "print(tabulate(most_liked_tweet_display, headers='keys', tablefmt='fancy_grid'))\n"
   ]
  }
 ],
 "metadata": {
  "kernelspec": {
   "display_name": "sentimentAnalysis",
   "language": "python",
   "name": "python3"
  },
  "language_info": {
   "codemirror_mode": {
    "name": "ipython",
    "version": 3
   },
   "file_extension": ".py",
   "mimetype": "text/x-python",
   "name": "python",
   "nbconvert_exporter": "python",
   "pygments_lexer": "ipython3",
   "version": "3.9.6"
  }
 },
 "nbformat": 4,
 "nbformat_minor": 2
}
